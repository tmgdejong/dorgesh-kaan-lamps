{
 "cells": [
  {
   "cell_type": "code",
   "execution_count": 1,
   "id": "7bd3b11d",
   "metadata": {},
   "outputs": [],
   "source": [
    "import json\n",
    "\n",
    "with open('feature_navigation.json', 'r') as file:\n",
    "    data = json.load(file)"
   ]
  },
  {
   "cell_type": "code",
   "execution_count": 2,
   "id": "da611eef",
   "metadata": {},
   "outputs": [],
   "source": [
    "DK_WEST_VALUE = 2688\n",
    "DK_EAST_VALUE = 2751\n",
    "DK_NORTH_VALUE = 5375\n",
    "DK_SOUTH_VALUE = 5248"
   ]
  },
  {
   "cell_type": "code",
   "execution_count": 3,
   "id": "29cfe91c",
   "metadata": {},
   "outputs": [],
   "source": [
    "data_origin_in_dk = {}\n",
    "data_dest_in_dk = {}\n",
    "\n",
    "for feature,entries in data.items():\n",
    "    for entry in entries:\n",
    "        if entry['origin']['x'] >= DK_WEST_VALUE and entry['origin']['x'] <= DK_EAST_VALUE and entry['origin']['y'] >= DK_SOUTH_VALUE and entry['origin']['y'] <= DK_NORTH_VALUE:\n",
    "            data_origin_in_dk[feature] = data[feature]\n",
    "            break\n",
    "    for entry in entries:\n",
    "        if entry['destination']['x'] >= DK_WEST_VALUE and entry['destination']['x'] <= DK_EAST_VALUE and entry['destination']['y'] >= DK_SOUTH_VALUE and entry['destination']['y'] <= DK_NORTH_VALUE:\n",
    "            data_dest_in_dk[feature] = data[feature]\n",
    "            break"
   ]
  },
  {
   "cell_type": "code",
   "execution_count": 5,
   "id": "ff80a211",
   "metadata": {},
   "outputs": [],
   "source": [
    "with open('feature_navigation_origin_in_dk.json', 'w') as file:\n",
    "    json.dump(data_origin_in_dk, file, indent=4)\n",
    "with open('feature_navigation_dest_in_dk.json', 'w') as file:\n",
    "    json.dump(data_dest_in_dk, file, indent=4)"
   ]
  }
 ],
 "metadata": {
  "kernelspec": {
   "display_name": "3.11.10",
   "language": "python",
   "name": "python3"
  },
  "language_info": {
   "codemirror_mode": {
    "name": "ipython",
    "version": 3
   },
   "file_extension": ".py",
   "mimetype": "text/x-python",
   "name": "python",
   "nbconvert_exporter": "python",
   "pygments_lexer": "ipython3",
   "version": "3.11.10"
  }
 },
 "nbformat": 4,
 "nbformat_minor": 5
}
